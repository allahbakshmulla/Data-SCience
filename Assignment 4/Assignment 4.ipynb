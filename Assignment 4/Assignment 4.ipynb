{
 "cells": [
  {
   "cell_type": "code",
   "execution_count": 1,
   "id": "19744bf8",
   "metadata": {},
   "outputs": [
    {
     "name": "stdout",
     "output_type": "stream",
     "text": [
      "[[0 0 0 0]\n",
      " [0 0 0 0]\n",
      " [0 0 0 0]\n",
      " [0 0 0 0]]\n"
     ]
    }
   ],
   "source": [
    "import numpy as np\n",
    "from scipy.sparse import csr_matrix\n",
    "  \n",
    "sparseMatrix = csr_matrix((4, 4), dtype = np.int8).toarray()  \n",
    "print(sparseMatrix)"
   ]
  },
  {
   "cell_type": "code",
   "execution_count": 2,
   "id": "bb6bd423",
   "metadata": {},
   "outputs": [
    {
     "name": "stdout",
     "output_type": "stream",
     "text": [
      "[[0 0 3 0 4]\n",
      " [0 0 5 7 0]\n",
      " [0 0 0 0 0]\n",
      " [0 2 6 0 0]]\n"
     ]
    }
   ],
   "source": [
    "row = np.array([0,0,1,1,3,3,])\n",
    "col = np.array([2,4,2,3,1,2])\n",
    "data = np.array([3,4,5,7,2,6])\n",
    "  \n",
    "sparseMatrix = csr_matrix((data, (row, col)), shape = (4, 5)).toarray()    \n",
    "print(sparseMatrix)"
   ]
  }
 ],
 "metadata": {
  "kernelspec": {
   "display_name": "Python 3 (ipykernel)",
   "language": "python",
   "name": "python3"
  },
  "language_info": {
   "codemirror_mode": {
    "name": "ipython",
    "version": 3
   },
   "file_extension": ".py",
   "mimetype": "text/x-python",
   "name": "python",
   "nbconvert_exporter": "python",
   "pygments_lexer": "ipython3",
   "version": "3.9.7"
  }
 },
 "nbformat": 4,
 "nbformat_minor": 5
}
