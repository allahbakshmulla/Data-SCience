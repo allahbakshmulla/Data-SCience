{
 "cells": [
  {
   "cell_type": "code",
   "execution_count": 1,
   "metadata": {},
   "outputs": [
    {
     "name": "stdout",
     "output_type": "stream",
     "text": [
      "\n",
      " The 10 most frequent words are:\n",
      " 1.  =\n",
      " 2.  classification\n",
      " 3.  regression\n",
      " 4.  y_train)\n",
      " 5.  y_pred\n",
      " 6.  import\n",
      " 7.  decision\n",
      " 8.  data\n",
      " 9.  Fig.\n",
      "10.  vector\n"
     ]
    }
   ],
   "source": [
    "import io\n",
    "from nltk.corpus import stopwords\n",
    "from nltk.tokenize import word_tokenize\n",
    "\n",
    "stop_words = set(stopwords.words('english'))\n",
    "file1 = open(\"Chapter 5 Notes.txt\") \n",
    "   \n",
    "line = file1.read()\n",
    "words = line.split() \n",
    "for r in words: \n",
    "    if not r in stop_words: \n",
    "        appendFile = open('filteredtext.txt','a') \n",
    "        appendFile.write(\" \"+r) \n",
    "        appendFile.close() \n",
    "        \n",
    "s = open('filteredtext.txt','r').read()\n",
    "num_chars = len(s)\n",
    "words = s.split()\n",
    "d = {}\n",
    "for w in words:\n",
    "    if w in d:\n",
    "        d[w] += 1\n",
    "    else:\n",
    "        d[w] = 1\n",
    "        num_words = sum(d[w] for w in d)\n",
    "\n",
    "lst = [(d[w],w) for w in d]\n",
    "lst.sort()\n",
    "lst.reverse()\n",
    "\n",
    "print('\\n The 10 most frequent words are:')\n",
    "\n",
    "i = 1\n",
    "for count, word in lst[:10]:\n",
    "    print('%2s.  %s' %(i,word))\n",
    "    i+= 1"
   ]
  },
  {
   "cell_type": "code",
   "execution_count": null,
   "metadata": {},
   "outputs": [],
   "source": []
  }
 ],
 "metadata": {
  "kernelspec": {
   "display_name": "Python 3 (ipykernel)",
   "language": "python",
   "name": "python3"
  },
  "language_info": {
   "codemirror_mode": {
    "name": "ipython",
    "version": 3
   },
   "file_extension": ".py",
   "mimetype": "text/x-python",
   "name": "python",
   "nbconvert_exporter": "python",
   "pygments_lexer": "ipython3",
   "version": "3.9.7"
  }
 },
 "nbformat": 4,
 "nbformat_minor": 2
}
